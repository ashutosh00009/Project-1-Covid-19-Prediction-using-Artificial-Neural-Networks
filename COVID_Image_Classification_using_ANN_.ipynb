{
  "nbformat": 4,
  "nbformat_minor": 0,
  "metadata": {
    "colab": {
      "name": "COVID  Image_Classification_using_ANN .ipynb",
      "provenance": [],
      "collapsed_sections": [],
      "include_colab_link": true
    },
    "kernelspec": {
      "name": "python3",
      "display_name": "Python 3"
    },
    "language_info": {
      "name": "python"
    },
    "accelerator": "GPU"
  },
  "cells": [
    {
      "cell_type": "markdown",
      "metadata": {
        "id": "view-in-github",
        "colab_type": "text"
      },
      "source": [
        "<a href=\"https://colab.research.google.com/github/ashutosh00009/Project-1-Covid-19-Prediction-using-Artificial-Neural-Networks/blob/main/COVID_Image_Classification_using_ANN_.ipynb\" target=\"_parent\"><img src=\"https://colab.research.google.com/assets/colab-badge.svg\" alt=\"Open In Colab\"/></a>"
      ]
    },
    {
      "cell_type": "markdown",
      "metadata": {
        "id": "JT4a4dwlqhsd"
      },
      "source": [
        ""
      ]
    },
    {
      "cell_type": "markdown",
      "metadata": {
        "id": "XwMdAK1XqmPI"
      },
      "source": [
        "#Project 1: Covid 19 Prediction using Artificial Neural Networks"
      ]
    },
    {
      "cell_type": "markdown",
      "metadata": {
        "id": "y9dbM1bxjvnU"
      },
      "source": [
        "Dataset: [Covid 19 Chest X-ray dataset](https://www.kaggle.com/tawsifurrahman/covid19-radiography-database)\n",
        "\n",
        "\n",
        "A team of researchers from Qatar University, Doha, Qatar, and the University of Dhaka, Bangladesh along with their collaborators from Pakistan and Malaysia in collaboration with medical doctors have created a database of chest X-ray images for COVID-19 positive cases along with Normal and Viral Pneumonia images. This COVID-19, normal, and other lung infection dataset is released in stages. In the first release, we have released 219 COVID-19, 1341 normal, and 1345 viral pneumonia chest X-ray (CXR) images. In the first update, we have increased the COVID-19 class to 1200 CXR images. In the 2nd update, we have increased the database to 3616 COVID-19 positive cases along with 10,192 Normal, 6012 Lung Opacity (Non-COVID lung infection), and 1345 Viral Pneumonia images. We will continue to update this database as soon as we have new x-ray images for COVID-19 pneumonia patients.\n",
        "\n"
      ]
    },
    {
      "cell_type": "markdown",
      "metadata": {
        "id": "9mHnC6nNtBK1"
      },
      "source": [
        "**1. Mount the Google Drive**"
      ]
    },
    {
      "cell_type": "code",
      "metadata": {
        "id": "gORvsC4_s_fY",
        "colab": {
          "base_uri": "https://localhost:8080/"
        },
        "outputId": "09e0f55e-7e4c-48bf-a08a-c302fcb25cb4"
      },
      "source": [
        "from google.colab import drive\n",
        "drive.mount('/content/drive')"
      ],
      "execution_count": 1,
      "outputs": [
        {
          "output_type": "stream",
          "name": "stdout",
          "text": [
            "Mounted at /content/drive\n"
          ]
        }
      ]
    },
    {
      "cell_type": "markdown",
      "metadata": {
        "id": "wiZOocimtGeu"
      },
      "source": [
        "**2. Move to the place where data resides**"
      ]
    },
    {
      "cell_type": "code",
      "metadata": {
        "id": "EdbGFIkPlah9",
        "outputId": "9296d7f7-f1fa-421f-b755-25d22bcda6aa",
        "colab": {
          "base_uri": "https://localhost:8080/"
        }
      },
      "source": [
        "%cd /content/drive/MyDrive/coviddataset"
      ],
      "execution_count": 2,
      "outputs": [
        {
          "output_type": "stream",
          "name": "stdout",
          "text": [
            "/content/drive/MyDrive/coviddataset\n"
          ]
        }
      ]
    },
    {
      "cell_type": "code",
      "metadata": {
        "id": "lqViJFpyjxJZ",
        "colab": {
          "base_uri": "https://localhost:8080/"
        },
        "outputId": "437abf9e-36c9-4a9a-f168-46b9ffe936bd"
      },
      "source": [
        "!ls"
      ],
      "execution_count": 3,
      "outputs": [
        {
          "output_type": "stream",
          "name": "stdout",
          "text": [
            "covid_dataset.zip\n"
          ]
        }
      ]
    },
    {
      "cell_type": "markdown",
      "metadata": {
        "id": "0e8v2RY-tKUs"
      },
      "source": [
        "**3. Unziping the dataset**"
      ]
    },
    {
      "cell_type": "code",
      "source": [
        "!pip install unzip"
      ],
      "metadata": {
        "colab": {
          "base_uri": "https://localhost:8080/"
        },
        "id": "PYfX_i50jzOc",
        "outputId": "71ccef19-5c9b-42eb-d940-f99d78245252"
      },
      "execution_count": 4,
      "outputs": [
        {
          "output_type": "stream",
          "name": "stdout",
          "text": [
            "Looking in indexes: https://pypi.org/simple, https://us-python.pkg.dev/colab-wheels/public/simple/\n",
            "Collecting unzip\n",
            "  Downloading unzip-1.0.0.tar.gz (704 bytes)\n",
            "Building wheels for collected packages: unzip\n",
            "  Building wheel for unzip (setup.py) ... \u001b[?25l\u001b[?25hdone\n",
            "  Created wheel for unzip: filename=unzip-1.0.0-py3-none-any.whl size=1319 sha256=89d4774b214ee879bc1d2738b0a530c3522de9bd22c18f41652338d3e9e5c7e7\n",
            "  Stored in directory: /root/.cache/pip/wheels/c5/05/b3/f7b36dbaaf76de31b718cde792c953bfd11d2414a72f204b56\n",
            "Successfully built unzip\n",
            "Installing collected packages: unzip\n",
            "Successfully installed unzip-1.0.0\n"
          ]
        }
      ]
    },
    {
      "cell_type": "code",
      "metadata": {
        "id": "kOWDshT6lb8K",
        "colab": {
          "base_uri": "https://localhost:8080/"
        },
        "outputId": "baa6f85f-e96e-4776-8b0b-86f580a1f4e1"
      },
      "source": [
        "!unzip covid_dataset.zip"
      ],
      "execution_count": 5,
      "outputs": [
        {
          "output_type": "stream",
          "name": "stdout",
          "text": [
            "Archive:  covid_dataset.zip\n",
            "   creating: covid_dataset/\n",
            "   creating: covid_dataset/COVID/\n",
            "  inflating: covid_dataset/COVID/COVID-1.png  \n",
            "  inflating: covid_dataset/COVID/COVID-10.png  \n",
            "  inflating: covid_dataset/COVID/COVID-11.png  \n",
            "  inflating: covid_dataset/COVID/COVID-12.png  \n",
            "  inflating: covid_dataset/COVID/COVID-13.png  \n",
            "  inflating: covid_dataset/COVID/COVID-14.png  \n",
            "  inflating: covid_dataset/COVID/COVID-15.png  \n",
            "  inflating: covid_dataset/COVID/COVID-16.png  \n",
            "  inflating: covid_dataset/COVID/COVID-17.png  \n",
            "  inflating: covid_dataset/COVID/COVID-18.png  \n",
            "  inflating: covid_dataset/COVID/COVID-19.png  \n",
            "  inflating: covid_dataset/COVID/COVID-2.png  \n",
            "  inflating: covid_dataset/COVID/COVID-20.png  \n",
            "  inflating: covid_dataset/COVID/COVID-21.png  \n",
            "  inflating: covid_dataset/COVID/COVID-22.png  \n",
            "  inflating: covid_dataset/COVID/COVID-23.png  \n",
            "  inflating: covid_dataset/COVID/COVID-24.png  \n",
            "  inflating: covid_dataset/COVID/COVID-25.png  \n",
            "  inflating: covid_dataset/COVID/COVID-26.png  \n",
            "  inflating: covid_dataset/COVID/COVID-27.png  \n",
            "  inflating: covid_dataset/COVID/COVID-28.png  \n",
            "  inflating: covid_dataset/COVID/COVID-29.png  \n",
            "  inflating: covid_dataset/COVID/COVID-3.png  \n",
            "  inflating: covid_dataset/COVID/COVID-30.png  \n",
            "  inflating: covid_dataset/COVID/COVID-31.png  \n",
            "  inflating: covid_dataset/COVID/COVID-32.png  \n",
            "  inflating: covid_dataset/COVID/COVID-33.png  \n",
            "  inflating: covid_dataset/COVID/COVID-34.png  \n",
            "  inflating: covid_dataset/COVID/COVID-35.png  \n",
            "  inflating: covid_dataset/COVID/COVID-36.png  \n",
            "  inflating: covid_dataset/COVID/COVID-37.png  \n",
            "  inflating: covid_dataset/COVID/COVID-38.png  \n",
            "  inflating: covid_dataset/COVID/COVID-39.png  \n",
            "  inflating: covid_dataset/COVID/COVID-4.png  \n",
            "  inflating: covid_dataset/COVID/COVID-40.png  \n",
            "  inflating: covid_dataset/COVID/COVID-41.png  \n",
            "  inflating: covid_dataset/COVID/COVID-42.png  \n",
            "  inflating: covid_dataset/COVID/COVID-43.png  \n",
            "  inflating: covid_dataset/COVID/COVID-44.png  \n",
            "  inflating: covid_dataset/COVID/COVID-45.png  \n",
            "  inflating: covid_dataset/COVID/COVID-46.png  \n",
            "  inflating: covid_dataset/COVID/COVID-47.png  \n",
            "  inflating: covid_dataset/COVID/COVID-48.png  \n",
            "  inflating: covid_dataset/COVID/COVID-49.png  \n",
            "  inflating: covid_dataset/COVID/COVID-5.png  \n",
            "  inflating: covid_dataset/COVID/COVID-50.png  \n",
            "  inflating: covid_dataset/COVID/COVID-6.png  \n",
            "  inflating: covid_dataset/COVID/COVID-7.png  \n",
            "  inflating: covid_dataset/COVID/COVID-8.png  \n",
            "  inflating: covid_dataset/COVID/COVID-9.png  \n",
            "   creating: covid_dataset/Normal/\n",
            "  inflating: covid_dataset/Normal/Normal-1.png  \n",
            "  inflating: covid_dataset/Normal/Normal-10.png  \n",
            "  inflating: covid_dataset/Normal/Normal-11.png  \n",
            "  inflating: covid_dataset/Normal/Normal-12.png  \n",
            "  inflating: covid_dataset/Normal/Normal-13.png  \n",
            "  inflating: covid_dataset/Normal/Normal-14.png  \n",
            "  inflating: covid_dataset/Normal/Normal-15.png  \n",
            "  inflating: covid_dataset/Normal/Normal-16.png  \n",
            "  inflating: covid_dataset/Normal/Normal-17.png  \n",
            "  inflating: covid_dataset/Normal/Normal-18.png  \n",
            "  inflating: covid_dataset/Normal/Normal-19.png  \n",
            "  inflating: covid_dataset/Normal/Normal-2.png  \n",
            "  inflating: covid_dataset/Normal/Normal-20.png  \n",
            "  inflating: covid_dataset/Normal/Normal-21.png  \n",
            "  inflating: covid_dataset/Normal/Normal-22.png  \n",
            "  inflating: covid_dataset/Normal/Normal-23.png  \n",
            "  inflating: covid_dataset/Normal/Normal-24.png  \n",
            "  inflating: covid_dataset/Normal/Normal-25.png  \n",
            "  inflating: covid_dataset/Normal/Normal-26.png  \n",
            "  inflating: covid_dataset/Normal/Normal-27.png  \n",
            "  inflating: covid_dataset/Normal/Normal-28.png  \n",
            "  inflating: covid_dataset/Normal/Normal-29.png  \n",
            "  inflating: covid_dataset/Normal/Normal-3.png  \n",
            "  inflating: covid_dataset/Normal/Normal-30.png  \n",
            "  inflating: covid_dataset/Normal/Normal-31.png  \n",
            "  inflating: covid_dataset/Normal/Normal-32.png  \n",
            "  inflating: covid_dataset/Normal/Normal-33.png  \n",
            "  inflating: covid_dataset/Normal/Normal-34.png  \n",
            "  inflating: covid_dataset/Normal/Normal-35.png  \n",
            "  inflating: covid_dataset/Normal/Normal-36.png  \n",
            "  inflating: covid_dataset/Normal/Normal-37.png  \n",
            "  inflating: covid_dataset/Normal/Normal-38.png  \n",
            "  inflating: covid_dataset/Normal/Normal-39.png  \n",
            "  inflating: covid_dataset/Normal/Normal-4.png  \n",
            "  inflating: covid_dataset/Normal/Normal-40.png  \n",
            "  inflating: covid_dataset/Normal/Normal-41.png  \n",
            "  inflating: covid_dataset/Normal/Normal-42.png  \n",
            "  inflating: covid_dataset/Normal/Normal-43.png  \n",
            "  inflating: covid_dataset/Normal/Normal-44.png  \n",
            "  inflating: covid_dataset/Normal/Normal-45.png  \n",
            "  inflating: covid_dataset/Normal/Normal-46.png  \n",
            "  inflating: covid_dataset/Normal/Normal-47.png  \n",
            "  inflating: covid_dataset/Normal/Normal-48.png  \n",
            "  inflating: covid_dataset/Normal/Normal-49.png  \n",
            "  inflating: covid_dataset/Normal/Normal-5.png  \n",
            "  inflating: covid_dataset/Normal/Normal-50.png  \n",
            "  inflating: covid_dataset/Normal/Normal-6.png  \n",
            "  inflating: covid_dataset/Normal/Normal-7.png  \n",
            "  inflating: covid_dataset/Normal/Normal-8.png  \n",
            "  inflating: covid_dataset/Normal/Normal-9.png  \n",
            "   creating: covid_dataset/Viral Pneumonia/\n",
            "  inflating: covid_dataset/Viral Pneumonia/Viral Pneumonia-1.png  \n",
            "  inflating: covid_dataset/Viral Pneumonia/Viral Pneumonia-10.png  \n",
            "  inflating: covid_dataset/Viral Pneumonia/Viral Pneumonia-11.png  \n",
            "  inflating: covid_dataset/Viral Pneumonia/Viral Pneumonia-12.png  \n",
            "  inflating: covid_dataset/Viral Pneumonia/Viral Pneumonia-13.png  \n",
            "  inflating: covid_dataset/Viral Pneumonia/Viral Pneumonia-14.png  \n",
            "  inflating: covid_dataset/Viral Pneumonia/Viral Pneumonia-15.png  \n",
            "  inflating: covid_dataset/Viral Pneumonia/Viral Pneumonia-16.png  \n",
            "  inflating: covid_dataset/Viral Pneumonia/Viral Pneumonia-17.png  \n",
            "  inflating: covid_dataset/Viral Pneumonia/Viral Pneumonia-18.png  \n",
            "  inflating: covid_dataset/Viral Pneumonia/Viral Pneumonia-19.png  \n",
            "  inflating: covid_dataset/Viral Pneumonia/Viral Pneumonia-2.png  \n",
            "  inflating: covid_dataset/Viral Pneumonia/Viral Pneumonia-20.png  \n",
            "  inflating: covid_dataset/Viral Pneumonia/Viral Pneumonia-21.png  \n",
            "  inflating: covid_dataset/Viral Pneumonia/Viral Pneumonia-22.png  \n",
            "  inflating: covid_dataset/Viral Pneumonia/Viral Pneumonia-23.png  \n",
            "  inflating: covid_dataset/Viral Pneumonia/Viral Pneumonia-24.png  \n",
            "  inflating: covid_dataset/Viral Pneumonia/Viral Pneumonia-25.png  \n",
            "  inflating: covid_dataset/Viral Pneumonia/Viral Pneumonia-26.png  \n",
            "  inflating: covid_dataset/Viral Pneumonia/Viral Pneumonia-27.png  \n",
            "  inflating: covid_dataset/Viral Pneumonia/Viral Pneumonia-28.png  \n",
            "  inflating: covid_dataset/Viral Pneumonia/Viral Pneumonia-29.png  \n",
            "  inflating: covid_dataset/Viral Pneumonia/Viral Pneumonia-3.png  \n",
            "  inflating: covid_dataset/Viral Pneumonia/Viral Pneumonia-30.png  \n",
            "  inflating: covid_dataset/Viral Pneumonia/Viral Pneumonia-31.png  \n",
            "  inflating: covid_dataset/Viral Pneumonia/Viral Pneumonia-32.png  \n",
            "  inflating: covid_dataset/Viral Pneumonia/Viral Pneumonia-33.png  \n",
            "  inflating: covid_dataset/Viral Pneumonia/Viral Pneumonia-34.png  \n",
            "  inflating: covid_dataset/Viral Pneumonia/Viral Pneumonia-35.png  \n",
            "  inflating: covid_dataset/Viral Pneumonia/Viral Pneumonia-36.png  \n",
            "  inflating: covid_dataset/Viral Pneumonia/Viral Pneumonia-37.png  \n",
            "  inflating: covid_dataset/Viral Pneumonia/Viral Pneumonia-38.png  \n",
            "  inflating: covid_dataset/Viral Pneumonia/Viral Pneumonia-39.png  \n",
            "  inflating: covid_dataset/Viral Pneumonia/Viral Pneumonia-4.png  \n",
            "  inflating: covid_dataset/Viral Pneumonia/Viral Pneumonia-40.png  \n",
            "  inflating: covid_dataset/Viral Pneumonia/Viral Pneumonia-41.png  \n",
            "  inflating: covid_dataset/Viral Pneumonia/Viral Pneumonia-42.png  \n",
            "  inflating: covid_dataset/Viral Pneumonia/Viral Pneumonia-43.png  \n",
            "  inflating: covid_dataset/Viral Pneumonia/Viral Pneumonia-44.png  \n",
            "  inflating: covid_dataset/Viral Pneumonia/Viral Pneumonia-45.png  \n",
            "  inflating: covid_dataset/Viral Pneumonia/Viral Pneumonia-46.png  \n",
            "  inflating: covid_dataset/Viral Pneumonia/Viral Pneumonia-47.png  \n",
            "  inflating: covid_dataset/Viral Pneumonia/Viral Pneumonia-48.png  \n",
            "  inflating: covid_dataset/Viral Pneumonia/Viral Pneumonia-49.png  \n",
            "  inflating: covid_dataset/Viral Pneumonia/Viral Pneumonia-5.png  \n",
            "  inflating: covid_dataset/Viral Pneumonia/Viral Pneumonia-50.png  \n",
            "  inflating: covid_dataset/Viral Pneumonia/Viral Pneumonia-6.png  \n",
            "  inflating: covid_dataset/Viral Pneumonia/Viral Pneumonia-7.png  \n",
            "  inflating: covid_dataset/Viral Pneumonia/Viral Pneumonia-8.png  \n",
            "  inflating: covid_dataset/Viral Pneumonia/Viral Pneumonia-9.png  \n"
          ]
        }
      ]
    },
    {
      "cell_type": "markdown",
      "metadata": {
        "id": "xvuRmzA0tNw0"
      },
      "source": [
        "**4. Install split folder python package**\n",
        "\n",
        "https://pypi.org/project/split-folders/"
      ]
    },
    {
      "cell_type": "code",
      "metadata": {
        "id": "r-4b_r2qlenB",
        "colab": {
          "base_uri": "https://localhost:8080/"
        },
        "outputId": "c49400d0-1b47-4246-a9b7-ab05ce1207c5"
      },
      "source": [
        "!pip install split_folders"
      ],
      "execution_count": 6,
      "outputs": [
        {
          "output_type": "stream",
          "name": "stdout",
          "text": [
            "Looking in indexes: https://pypi.org/simple, https://us-python.pkg.dev/colab-wheels/public/simple/\n",
            "Collecting split_folders\n",
            "  Downloading split_folders-0.5.1-py3-none-any.whl (8.4 kB)\n",
            "Installing collected packages: split-folders\n",
            "Successfully installed split-folders-0.5.1\n"
          ]
        }
      ]
    },
    {
      "cell_type": "markdown",
      "metadata": {
        "id": "yq0KuuUatVi-"
      },
      "source": [
        "**5. Splitting the data in training, testing and validation set**"
      ]
    },
    {
      "cell_type": "code",
      "metadata": {
        "id": "8xXGHVOIlheA",
        "colab": {
          "base_uri": "https://localhost:8080/"
        },
        "outputId": "bbb8ce14-fce3-4e2c-89bd-0f1c1fa1cc77"
      },
      "source": [
        "import splitfolders\n",
        "splitfolders.ratio(\"covid_dataset\", output=\"split\", seed=1337, ratio=(.8, .1, .1), group_prefix=None)"
      ],
      "execution_count": 8,
      "outputs": [
        {
          "output_type": "stream",
          "name": "stderr",
          "text": [
            "Copying files: 150 files [00:01, 97.79 files/s] \n"
          ]
        }
      ]
    },
    {
      "cell_type": "markdown",
      "metadata": {
        "id": "4_rTBEKCtaTR"
      },
      "source": [
        "**6. Loading the dataset with normalization in batches**"
      ]
    },
    {
      "cell_type": "code",
      "metadata": {
        "id": "4of-TiQPlkCZ",
        "colab": {
          "base_uri": "https://localhost:8080/"
        },
        "outputId": "203f87d0-4524-4d74-a71e-f8aee8535c64"
      },
      "source": [
        "from keras.preprocessing.image import ImageDataGenerator\n",
        "\n",
        "# Normalize training and validation data in the range of 0 to 1\n",
        "train_datagen = ImageDataGenerator(rescale=1./255)\n",
        "validation_datagen = ImageDataGenerator(rescale=1./255)\n",
        "test_datagen = ImageDataGenerator(rescale=1./255)\n",
        "\n",
        "# Read the training sample and set the batch size \n",
        "train_generator = train_datagen.flow_from_directory(\n",
        "        'split/train/',\n",
        "        target_size=(128, 128),\n",
        "        batch_size=8,\n",
        "        seed=100,\n",
        "        class_mode='categorical')\n",
        "\n",
        "# Read Validation data from directory and define target size with batch size\n",
        "validation_generator = validation_datagen.flow_from_directory(\n",
        "        'split/val/',\n",
        "        target_size=(128, 128),\n",
        "        batch_size=8,\n",
        "        class_mode='categorical',\n",
        "        seed=1000,\n",
        "        shuffle=False)\n",
        "\n",
        "test_generator = test_datagen.flow_from_directory(\n",
        "        'split/test/',\n",
        "        target_size=(128, 128),\n",
        "        batch_size=8,\n",
        "        seed=500,\n",
        "        class_mode='categorical',\n",
        "        shuffle=False)"
      ],
      "execution_count": 9,
      "outputs": [
        {
          "output_type": "stream",
          "name": "stdout",
          "text": [
            "Found 120 images belonging to 3 classes.\n",
            "Found 15 images belonging to 3 classes.\n",
            "Found 15 images belonging to 3 classes.\n"
          ]
        }
      ]
    },
    {
      "cell_type": "markdown",
      "metadata": {
        "id": "ZqmlFmyitf8O"
      },
      "source": [
        "**7. Model Building**"
      ]
    },
    {
      "cell_type": "code",
      "metadata": {
        "id": "RrA7f0eKl4tH",
        "colab": {
          "base_uri": "https://localhost:8080/"
        },
        "outputId": "6cdc252d-f1d4-437d-a7b2-ed5b01c32e5c"
      },
      "source": [
        "from tensorflow import keras\n",
        "from tensorflow.keras import layers\n",
        "inputs = keras.Input(shape=(128, 128,3))\n",
        "x = layers.Flatten()(inputs)\n",
        "x = layers.Dense(32, activation=\"relu\")(x)\n",
        "x = layers.Dense(64, activation='relu')(x)\n",
        "outputs = layers.Dense(3, activation=\"softmax\")(x)\n",
        "model = keras.Model(inputs, outputs)\n",
        "model.summary()"
      ],
      "execution_count": 10,
      "outputs": [
        {
          "output_type": "stream",
          "name": "stdout",
          "text": [
            "Model: \"model\"\n",
            "_________________________________________________________________\n",
            " Layer (type)                Output Shape              Param #   \n",
            "=================================================================\n",
            " input_1 (InputLayer)        [(None, 128, 128, 3)]     0         \n",
            "                                                                 \n",
            " flatten (Flatten)           (None, 49152)             0         \n",
            "                                                                 \n",
            " dense (Dense)               (None, 32)                1572896   \n",
            "                                                                 \n",
            " dense_1 (Dense)             (None, 64)                2112      \n",
            "                                                                 \n",
            " dense_2 (Dense)             (None, 3)                 195       \n",
            "                                                                 \n",
            "=================================================================\n",
            "Total params: 1,575,203\n",
            "Trainable params: 1,575,203\n",
            "Non-trainable params: 0\n",
            "_________________________________________________________________\n"
          ]
        }
      ]
    },
    {
      "cell_type": "markdown",
      "metadata": {
        "id": "_437haxhtjFa"
      },
      "source": [
        "**8. Model Compilation and Training**"
      ]
    },
    {
      "cell_type": "code",
      "metadata": {
        "id": "DixxjVJelrcg",
        "colab": {
          "base_uri": "https://localhost:8080/"
        },
        "outputId": "e60a90f1-fa5b-466b-face-364db32877ce"
      },
      "source": [
        "from tensorflow.keras.optimizers import Adam\n",
        "\n",
        "adam = Adam(learning_rate=0.0001)\n",
        "# We are going to use accuracy metrics and cross entropy loss as performance parameters\n",
        "model.compile(adam, loss='categorical_crossentropy', metrics=['acc'])\n",
        "# Train the model \n",
        "history = model.fit(train_generator, \n",
        "      steps_per_epoch=train_generator.samples/train_generator.batch_size,\n",
        "      epochs=100,\n",
        "      validation_data=validation_generator,\n",
        "      validation_steps=validation_generator.samples/validation_generator.batch_size,\n",
        "      verbose=1)"
      ],
      "execution_count": 11,
      "outputs": [
        {
          "output_type": "stream",
          "name": "stdout",
          "text": [
            "Epoch 1/100\n",
            "15/15 [==============================] - 3s 44ms/step - loss: 1.2982 - acc: 0.3583 - val_loss: 0.9836 - val_acc: 0.6000\n",
            "Epoch 2/100\n",
            "15/15 [==============================] - 1s 35ms/step - loss: 0.9456 - acc: 0.5417 - val_loss: 0.9027 - val_acc: 0.6000\n",
            "Epoch 3/100\n",
            "15/15 [==============================] - 1s 36ms/step - loss: 0.8961 - acc: 0.5500 - val_loss: 0.8568 - val_acc: 0.6000\n",
            "Epoch 4/100\n",
            "15/15 [==============================] - 1s 35ms/step - loss: 0.8446 - acc: 0.5917 - val_loss: 0.8119 - val_acc: 0.6000\n",
            "Epoch 5/100\n",
            "15/15 [==============================] - 1s 36ms/step - loss: 0.7653 - acc: 0.5917 - val_loss: 0.7626 - val_acc: 0.6000\n",
            "Epoch 6/100\n",
            "15/15 [==============================] - 1s 39ms/step - loss: 0.7435 - acc: 0.5667 - val_loss: 0.8333 - val_acc: 0.7333\n",
            "Epoch 7/100\n",
            "15/15 [==============================] - 1s 36ms/step - loss: 0.6987 - acc: 0.6917 - val_loss: 0.6970 - val_acc: 0.6667\n",
            "Epoch 8/100\n",
            "15/15 [==============================] - 1s 34ms/step - loss: 0.6634 - acc: 0.7333 - val_loss: 0.6494 - val_acc: 0.7333\n",
            "Epoch 9/100\n",
            "15/15 [==============================] - 1s 40ms/step - loss: 0.6671 - acc: 0.7000 - val_loss: 0.6221 - val_acc: 0.6667\n",
            "Epoch 10/100\n",
            "15/15 [==============================] - 1s 36ms/step - loss: 0.7189 - acc: 0.6833 - val_loss: 0.5921 - val_acc: 0.8000\n",
            "Epoch 11/100\n",
            "15/15 [==============================] - 1s 35ms/step - loss: 0.7093 - acc: 0.6583 - val_loss: 0.7533 - val_acc: 0.7333\n",
            "Epoch 12/100\n",
            "15/15 [==============================] - 1s 35ms/step - loss: 0.5878 - acc: 0.7417 - val_loss: 0.5001 - val_acc: 0.8667\n",
            "Epoch 13/100\n",
            "15/15 [==============================] - 1s 37ms/step - loss: 0.5993 - acc: 0.7000 - val_loss: 0.5960 - val_acc: 0.6667\n",
            "Epoch 14/100\n",
            "15/15 [==============================] - 1s 37ms/step - loss: 0.5494 - acc: 0.7500 - val_loss: 0.4832 - val_acc: 0.8667\n",
            "Epoch 15/100\n",
            "15/15 [==============================] - 1s 35ms/step - loss: 0.4990 - acc: 0.8250 - val_loss: 0.4450 - val_acc: 0.8667\n",
            "Epoch 16/100\n",
            "15/15 [==============================] - 1s 36ms/step - loss: 0.4764 - acc: 0.8083 - val_loss: 0.4884 - val_acc: 0.8000\n",
            "Epoch 17/100\n",
            "15/15 [==============================] - 1s 36ms/step - loss: 0.4557 - acc: 0.8083 - val_loss: 0.4265 - val_acc: 0.8667\n",
            "Epoch 18/100\n",
            "15/15 [==============================] - 1s 37ms/step - loss: 0.4528 - acc: 0.8083 - val_loss: 0.4132 - val_acc: 0.9333\n",
            "Epoch 19/100\n",
            "15/15 [==============================] - 1s 35ms/step - loss: 0.4441 - acc: 0.8417 - val_loss: 0.4087 - val_acc: 0.9333\n",
            "Epoch 20/100\n",
            "15/15 [==============================] - 1s 35ms/step - loss: 0.4244 - acc: 0.8417 - val_loss: 0.4037 - val_acc: 0.8000\n",
            "Epoch 21/100\n",
            "15/15 [==============================] - 1s 35ms/step - loss: 0.4327 - acc: 0.8167 - val_loss: 0.3705 - val_acc: 0.8667\n",
            "Epoch 22/100\n",
            "15/15 [==============================] - 1s 35ms/step - loss: 0.3928 - acc: 0.8250 - val_loss: 0.4122 - val_acc: 0.8667\n",
            "Epoch 23/100\n",
            "15/15 [==============================] - 1s 36ms/step - loss: 0.3801 - acc: 0.8333 - val_loss: 0.4254 - val_acc: 0.8000\n",
            "Epoch 24/100\n",
            "15/15 [==============================] - 1s 35ms/step - loss: 0.3927 - acc: 0.8333 - val_loss: 0.4212 - val_acc: 0.8667\n",
            "Epoch 25/100\n",
            "15/15 [==============================] - 1s 36ms/step - loss: 0.3656 - acc: 0.8417 - val_loss: 0.3852 - val_acc: 0.8000\n",
            "Epoch 26/100\n",
            "15/15 [==============================] - 1s 36ms/step - loss: 0.3507 - acc: 0.8500 - val_loss: 0.5459 - val_acc: 0.7333\n",
            "Epoch 27/100\n",
            "15/15 [==============================] - 1s 36ms/step - loss: 0.3458 - acc: 0.8417 - val_loss: 0.3855 - val_acc: 0.8000\n",
            "Epoch 28/100\n",
            "15/15 [==============================] - 1s 35ms/step - loss: 0.3494 - acc: 0.8333 - val_loss: 0.3825 - val_acc: 0.8667\n",
            "Epoch 29/100\n",
            "15/15 [==============================] - 1s 36ms/step - loss: 0.3464 - acc: 0.8833 - val_loss: 0.3339 - val_acc: 0.9333\n",
            "Epoch 30/100\n",
            "15/15 [==============================] - 1s 35ms/step - loss: 0.3231 - acc: 0.8583 - val_loss: 0.3694 - val_acc: 0.8667\n",
            "Epoch 31/100\n",
            "15/15 [==============================] - 1s 35ms/step - loss: 0.3021 - acc: 0.8833 - val_loss: 0.6342 - val_acc: 0.6000\n",
            "Epoch 32/100\n",
            "15/15 [==============================] - 1s 38ms/step - loss: 0.3560 - acc: 0.8750 - val_loss: 0.3968 - val_acc: 0.8000\n",
            "Epoch 33/100\n",
            "15/15 [==============================] - 1s 36ms/step - loss: 0.2977 - acc: 0.8917 - val_loss: 0.3692 - val_acc: 0.8000\n",
            "Epoch 34/100\n",
            "15/15 [==============================] - 1s 35ms/step - loss: 0.2894 - acc: 0.8750 - val_loss: 0.4001 - val_acc: 0.8000\n",
            "Epoch 35/100\n",
            "15/15 [==============================] - 1s 35ms/step - loss: 0.2862 - acc: 0.8833 - val_loss: 0.3438 - val_acc: 0.9333\n",
            "Epoch 36/100\n",
            "15/15 [==============================] - 1s 37ms/step - loss: 0.2830 - acc: 0.9167 - val_loss: 0.3751 - val_acc: 0.8000\n",
            "Epoch 37/100\n",
            "15/15 [==============================] - 1s 37ms/step - loss: 0.2738 - acc: 0.9083 - val_loss: 0.4984 - val_acc: 0.8000\n",
            "Epoch 38/100\n",
            "15/15 [==============================] - 1s 38ms/step - loss: 0.2624 - acc: 0.9250 - val_loss: 0.4251 - val_acc: 0.8667\n",
            "Epoch 39/100\n",
            "15/15 [==============================] - 1s 36ms/step - loss: 0.2568 - acc: 0.9250 - val_loss: 0.3220 - val_acc: 0.8667\n",
            "Epoch 40/100\n",
            "15/15 [==============================] - 1s 37ms/step - loss: 0.2534 - acc: 0.8917 - val_loss: 0.3761 - val_acc: 0.9333\n",
            "Epoch 41/100\n",
            "15/15 [==============================] - 1s 36ms/step - loss: 0.2321 - acc: 0.9417 - val_loss: 0.3418 - val_acc: 0.8000\n",
            "Epoch 42/100\n",
            "15/15 [==============================] - 1s 36ms/step - loss: 0.2521 - acc: 0.9417 - val_loss: 0.4762 - val_acc: 0.8000\n",
            "Epoch 43/100\n",
            "15/15 [==============================] - 1s 35ms/step - loss: 0.2220 - acc: 0.9583 - val_loss: 0.3874 - val_acc: 0.8000\n",
            "Epoch 44/100\n",
            "15/15 [==============================] - 1s 36ms/step - loss: 0.2478 - acc: 0.9083 - val_loss: 0.3153 - val_acc: 0.8667\n",
            "Epoch 45/100\n",
            "15/15 [==============================] - 1s 41ms/step - loss: 0.2280 - acc: 0.9333 - val_loss: 0.3362 - val_acc: 0.8667\n",
            "Epoch 46/100\n",
            "15/15 [==============================] - 1s 40ms/step - loss: 0.2528 - acc: 0.9083 - val_loss: 0.3652 - val_acc: 0.8667\n",
            "Epoch 47/100\n",
            "15/15 [==============================] - 1s 39ms/step - loss: 0.2140 - acc: 0.9500 - val_loss: 0.3785 - val_acc: 0.9333\n",
            "Epoch 48/100\n",
            "15/15 [==============================] - 1s 36ms/step - loss: 0.1982 - acc: 0.9333 - val_loss: 0.3315 - val_acc: 0.8667\n",
            "Epoch 49/100\n",
            "15/15 [==============================] - 1s 37ms/step - loss: 0.2184 - acc: 0.9417 - val_loss: 0.3797 - val_acc: 0.9333\n",
            "Epoch 50/100\n",
            "15/15 [==============================] - 1s 37ms/step - loss: 0.2248 - acc: 0.9167 - val_loss: 0.4088 - val_acc: 0.9333\n",
            "Epoch 51/100\n",
            "15/15 [==============================] - 1s 37ms/step - loss: 0.1922 - acc: 0.9417 - val_loss: 0.4012 - val_acc: 0.6667\n",
            "Epoch 52/100\n",
            "15/15 [==============================] - 1s 54ms/step - loss: 0.2559 - acc: 0.8833 - val_loss: 0.3537 - val_acc: 0.9333\n",
            "Epoch 53/100\n",
            "15/15 [==============================] - 1s 53ms/step - loss: 0.1802 - acc: 0.9667 - val_loss: 0.4271 - val_acc: 0.8000\n",
            "Epoch 54/100\n",
            "15/15 [==============================] - 1s 43ms/step - loss: 0.1733 - acc: 0.9500 - val_loss: 0.4191 - val_acc: 0.9333\n",
            "Epoch 55/100\n",
            "15/15 [==============================] - 1s 36ms/step - loss: 0.1932 - acc: 0.9583 - val_loss: 0.4017 - val_acc: 0.8000\n",
            "Epoch 56/100\n",
            "15/15 [==============================] - 1s 36ms/step - loss: 0.1926 - acc: 0.9333 - val_loss: 0.4389 - val_acc: 0.8667\n",
            "Epoch 57/100\n",
            "15/15 [==============================] - 1s 36ms/step - loss: 0.1908 - acc: 0.9583 - val_loss: 0.5107 - val_acc: 0.8000\n",
            "Epoch 58/100\n",
            "15/15 [==============================] - 1s 36ms/step - loss: 0.1755 - acc: 0.9583 - val_loss: 0.3997 - val_acc: 0.8000\n",
            "Epoch 59/100\n",
            "15/15 [==============================] - 1s 36ms/step - loss: 0.1620 - acc: 0.9833 - val_loss: 0.3405 - val_acc: 0.8667\n",
            "Epoch 60/100\n",
            "15/15 [==============================] - 1s 36ms/step - loss: 0.1407 - acc: 0.9750 - val_loss: 0.4806 - val_acc: 0.7333\n",
            "Epoch 61/100\n",
            "15/15 [==============================] - 1s 36ms/step - loss: 0.1483 - acc: 0.9750 - val_loss: 0.3993 - val_acc: 0.8667\n",
            "Epoch 62/100\n",
            "15/15 [==============================] - 1s 36ms/step - loss: 0.1534 - acc: 0.9667 - val_loss: 0.3693 - val_acc: 0.8667\n",
            "Epoch 63/100\n",
            "15/15 [==============================] - 1s 36ms/step - loss: 0.1740 - acc: 0.9667 - val_loss: 0.3373 - val_acc: 0.8667\n",
            "Epoch 64/100\n",
            "15/15 [==============================] - 1s 36ms/step - loss: 0.1378 - acc: 0.9833 - val_loss: 0.3540 - val_acc: 0.8667\n",
            "Epoch 65/100\n",
            "15/15 [==============================] - 1s 37ms/step - loss: 0.1287 - acc: 0.9833 - val_loss: 0.4206 - val_acc: 0.8667\n",
            "Epoch 66/100\n",
            "15/15 [==============================] - 1s 35ms/step - loss: 0.1318 - acc: 0.9917 - val_loss: 0.6354 - val_acc: 0.6000\n",
            "Epoch 67/100\n",
            "15/15 [==============================] - 1s 35ms/step - loss: 0.1500 - acc: 0.9833 - val_loss: 0.3753 - val_acc: 0.8667\n",
            "Epoch 68/100\n",
            "15/15 [==============================] - 1s 36ms/step - loss: 0.1251 - acc: 0.9833 - val_loss: 0.3271 - val_acc: 0.8667\n",
            "Epoch 69/100\n",
            "15/15 [==============================] - 1s 36ms/step - loss: 0.1422 - acc: 0.9667 - val_loss: 0.4826 - val_acc: 0.8000\n",
            "Epoch 70/100\n",
            "15/15 [==============================] - 1s 36ms/step - loss: 0.1117 - acc: 0.9833 - val_loss: 0.3612 - val_acc: 0.8667\n",
            "Epoch 71/100\n",
            "15/15 [==============================] - 1s 37ms/step - loss: 0.1102 - acc: 0.9917 - val_loss: 0.4210 - val_acc: 0.8667\n",
            "Epoch 72/100\n",
            "15/15 [==============================] - 1s 37ms/step - loss: 0.1169 - acc: 0.9833 - val_loss: 0.3842 - val_acc: 0.8667\n",
            "Epoch 73/100\n",
            "15/15 [==============================] - 1s 36ms/step - loss: 0.1099 - acc: 0.9917 - val_loss: 0.3816 - val_acc: 0.8667\n",
            "Epoch 74/100\n",
            "15/15 [==============================] - 1s 37ms/step - loss: 0.1048 - acc: 0.9917 - val_loss: 0.3992 - val_acc: 0.8667\n",
            "Epoch 75/100\n",
            "15/15 [==============================] - 1s 37ms/step - loss: 0.1031 - acc: 0.9833 - val_loss: 0.3293 - val_acc: 0.8667\n",
            "Epoch 76/100\n",
            "15/15 [==============================] - 1s 36ms/step - loss: 0.1120 - acc: 0.9833 - val_loss: 0.4803 - val_acc: 0.8667\n",
            "Epoch 77/100\n",
            "15/15 [==============================] - 1s 37ms/step - loss: 0.1102 - acc: 0.9833 - val_loss: 0.3182 - val_acc: 0.8667\n",
            "Epoch 78/100\n",
            "15/15 [==============================] - 1s 36ms/step - loss: 0.1066 - acc: 0.9667 - val_loss: 0.3150 - val_acc: 0.8667\n",
            "Epoch 79/100\n",
            "15/15 [==============================] - 1s 36ms/step - loss: 0.1181 - acc: 0.9750 - val_loss: 0.3396 - val_acc: 0.8667\n",
            "Epoch 80/100\n",
            "15/15 [==============================] - 1s 35ms/step - loss: 0.0945 - acc: 0.9833 - val_loss: 0.4418 - val_acc: 0.8667\n",
            "Epoch 81/100\n",
            "15/15 [==============================] - 1s 36ms/step - loss: 0.0857 - acc: 0.9917 - val_loss: 0.4303 - val_acc: 0.8000\n",
            "Epoch 82/100\n",
            "15/15 [==============================] - 1s 37ms/step - loss: 0.0918 - acc: 1.0000 - val_loss: 0.3809 - val_acc: 0.8667\n",
            "Epoch 83/100\n",
            "15/15 [==============================] - 1s 36ms/step - loss: 0.0976 - acc: 0.9917 - val_loss: 0.5009 - val_acc: 0.8000\n",
            "Epoch 84/100\n",
            "15/15 [==============================] - 1s 38ms/step - loss: 0.1053 - acc: 0.9833 - val_loss: 0.4286 - val_acc: 0.8000\n",
            "Epoch 85/100\n",
            "15/15 [==============================] - 1s 36ms/step - loss: 0.0854 - acc: 1.0000 - val_loss: 0.5271 - val_acc: 0.8000\n",
            "Epoch 86/100\n",
            "15/15 [==============================] - 1s 36ms/step - loss: 0.0801 - acc: 0.9917 - val_loss: 0.3972 - val_acc: 0.8667\n",
            "Epoch 87/100\n",
            "15/15 [==============================] - 1s 36ms/step - loss: 0.0863 - acc: 0.9917 - val_loss: 0.6297 - val_acc: 0.6667\n",
            "Epoch 88/100\n",
            "15/15 [==============================] - 1s 37ms/step - loss: 0.1296 - acc: 0.9500 - val_loss: 0.4488 - val_acc: 0.8667\n",
            "Epoch 89/100\n",
            "15/15 [==============================] - 1s 36ms/step - loss: 0.1485 - acc: 0.9500 - val_loss: 0.3237 - val_acc: 0.8667\n",
            "Epoch 90/100\n",
            "15/15 [==============================] - 1s 37ms/step - loss: 0.0847 - acc: 0.9833 - val_loss: 0.3921 - val_acc: 0.8667\n",
            "Epoch 91/100\n",
            "15/15 [==============================] - 1s 38ms/step - loss: 0.0724 - acc: 0.9917 - val_loss: 0.4080 - val_acc: 0.8000\n",
            "Epoch 92/100\n",
            "15/15 [==============================] - 1s 35ms/step - loss: 0.0680 - acc: 1.0000 - val_loss: 0.3545 - val_acc: 0.8667\n",
            "Epoch 93/100\n",
            "15/15 [==============================] - 1s 36ms/step - loss: 0.0696 - acc: 1.0000 - val_loss: 0.3386 - val_acc: 0.8667\n",
            "Epoch 94/100\n",
            "15/15 [==============================] - 1s 37ms/step - loss: 0.0743 - acc: 0.9917 - val_loss: 0.4795 - val_acc: 0.8667\n",
            "Epoch 95/100\n",
            "15/15 [==============================] - 1s 38ms/step - loss: 0.0682 - acc: 1.0000 - val_loss: 0.4946 - val_acc: 0.8000\n",
            "Epoch 96/100\n",
            "15/15 [==============================] - 1s 36ms/step - loss: 0.0718 - acc: 0.9833 - val_loss: 0.5563 - val_acc: 0.8000\n",
            "Epoch 97/100\n",
            "15/15 [==============================] - 1s 36ms/step - loss: 0.0656 - acc: 0.9917 - val_loss: 0.3343 - val_acc: 0.8667\n",
            "Epoch 98/100\n",
            "15/15 [==============================] - 1s 36ms/step - loss: 0.0653 - acc: 0.9917 - val_loss: 0.4091 - val_acc: 0.8667\n",
            "Epoch 99/100\n",
            "15/15 [==============================] - 1s 37ms/step - loss: 0.0709 - acc: 0.9917 - val_loss: 0.3747 - val_acc: 0.8667\n",
            "Epoch 100/100\n",
            "15/15 [==============================] - 1s 38ms/step - loss: 0.0734 - acc: 0.9917 - val_loss: 0.7070 - val_acc: 0.6667\n"
          ]
        }
      ]
    },
    {
      "cell_type": "markdown",
      "metadata": {
        "id": "7h2kqqa0tpx9"
      },
      "source": [
        "**9. Model saving**"
      ]
    },
    {
      "cell_type": "code",
      "metadata": {
        "id": "AMlZWxBhnfjh"
      },
      "source": [
        "model.save('covid_classification.h5')"
      ],
      "execution_count": 12,
      "outputs": []
    },
    {
      "cell_type": "markdown",
      "metadata": {
        "id": "v64VrifGtsSn"
      },
      "source": [
        "**10. Model loading**"
      ]
    },
    {
      "cell_type": "code",
      "metadata": {
        "id": "h5kAXwzBoIzp"
      },
      "source": [
        "from tensorflow.keras import models\n",
        "model = models.load_model('covid_classification.h5')"
      ],
      "execution_count": 13,
      "outputs": []
    },
    {
      "cell_type": "markdown",
      "metadata": {
        "id": "EuGiWfjQtvDq"
      },
      "source": [
        "**11. Model weights saving**"
      ]
    },
    {
      "cell_type": "code",
      "metadata": {
        "id": "brmKRhGtoZVA"
      },
      "source": [
        "model.save_weights('covid_classification_weights.h5')"
      ],
      "execution_count": 14,
      "outputs": []
    },
    {
      "cell_type": "markdown",
      "metadata": {
        "id": "g_mHfakptxUF"
      },
      "source": [
        "**12. Model weights loading**"
      ]
    },
    {
      "cell_type": "code",
      "metadata": {
        "id": "Oc3YG_vioL9a"
      },
      "source": [
        "model.load_weights('covid_classification_weights.h5')"
      ],
      "execution_count": 15,
      "outputs": []
    },
    {
      "cell_type": "markdown",
      "metadata": {
        "id": "YJhgz0AAtzcm"
      },
      "source": [
        "**13. Plotting accuracy and loss graph for training and validation dataset**"
      ]
    },
    {
      "cell_type": "code",
      "metadata": {
        "id": "lKLbBshSocU6"
      },
      "source": [
        "train_acc = history.history['acc']\n",
        "val_acc = history.history['val_acc']\n",
        "train_loss = history.history['loss']\n",
        "val_loss = history.history['val_loss']"
      ],
      "execution_count": 16,
      "outputs": []
    },
    {
      "cell_type": "code",
      "metadata": {
        "id": "BfqOqEpVogvN",
        "colab": {
          "base_uri": "https://localhost:8080/",
          "height": 562
        },
        "outputId": "38731a21-e7b9-43cb-c13c-36a7bfc5f25e"
      },
      "source": [
        "import matplotlib.pyplot as plt\n",
        "epochs = range(len(train_acc)) \n",
        "plt.plot(epochs, train_acc, 'b', label='Training Accuracy')\n",
        "plt.plot(epochs, val_acc, 'r', label='Validation Accuracy')\n",
        "plt.title('Training and Validation Accuracy')\n",
        "plt.legend()\n",
        "plt.figure()\n",
        "plt.show()\n",
        "\n",
        "plt.plot(epochs, train_loss, 'b', label='Training Loss')\n",
        "plt.plot(epochs, val_loss, 'r', label='Validation Loss')\n",
        "plt.title('Training and Validation Loss')\n",
        "plt.legend()\n",
        "plt.show()\n"
      ],
      "execution_count": 17,
      "outputs": [
        {
          "output_type": "display_data",
          "data": {
            "text/plain": [
              "<Figure size 432x288 with 1 Axes>"
            ],
            "image/png": "[encoded data removed]"
          },
          "metadata": {
            "needs_background": "light"
          }
        },
        {
          "output_type": "display_data",
          "data": {
            "text/plain": [
              "<Figure size 432x288 with 0 Axes>"
            ]
          },
          "metadata": {}
        },
        {
          "output_type": "display_data",
          "data": {
            "text/plain": [
              "<Figure size 432x288 with 1 Axes>"
            ],
            "image/png": "[encoded data removed]"
          },
          "metadata": {
            "needs_background": "light"
          }
        }
      ]
    },
    {
      "cell_type": "markdown",
      "metadata": {
        "id": "LoVhONtnt3sq"
      },
      "source": [
        "**14. Evaluate model performance on test dataset**"
      ]
    },
    {
      "cell_type": "code",
      "metadata": {
        "id": "dxXMTffHoiVy",
        "colab": {
          "base_uri": "https://localhost:8080/"
        },
        "outputId": "557ae105-d7fe-4cb3-b8c8-d046798790f2"
      },
      "source": [
        "test_output= model.evaluate(test_generator, steps=test_generator.samples/test_generator.batch_size, verbose=1)\n",
        "print(test_output)\n",
        "print(model.metrics_names)"
      ],
      "execution_count": 18,
      "outputs": [
        {
          "output_type": "stream",
          "name": "stdout",
          "text": [
            "1/1 [==============================] - 0s 36ms/step - loss: 0.8501 - acc: 0.8000\n",
            "[0.8500779867172241, 0.800000011920929]\n",
            "['loss', 'acc']\n"
          ]
        }
      ]
    },
    {
      "cell_type": "markdown",
      "metadata": {
        "id": "inzAGua1o1we"
      },
      "source": [
        "References:\n",
        "\n",
        "1. https://pypi.org/project/split-folders/\n",
        "2. https://keras.io/"
      ]
    }
  ]
}